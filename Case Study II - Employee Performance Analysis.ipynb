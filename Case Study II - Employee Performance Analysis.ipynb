{
 "cells": [
  {
   "cell_type": "markdown",
   "id": "e2c5ffa6",
   "metadata": {},
   "source": [
    "Business challenge/requirementSFO Public Department -referred to as SFO  has captured all the salary data of its employees from year 2011-2014.  Now we are in year 2015 and the organization is facing some financial crisis. As first step HR wants to rationalize employee cost to save payroll budget.You have to do data manipulation and analysis on the salary data to answer specific questions for cost savings."
   ]
  },
  {
   "cell_type": "code",
   "execution_count": 1,
   "id": "986067fe",
   "metadata": {
    "ExecuteTime": {
     "end_time": "2022-01-07T07:53:30.061866Z",
     "start_time": "2022-01-07T07:53:28.771468Z"
    }
   },
   "outputs": [
    {
     "name": "stderr",
     "output_type": "stream",
     "text": [
      "C:\\ProgramData\\Anaconda3\\lib\\site-packages\\IPython\\core\\interactiveshell.py:3444: DtypeWarning: Columns (12) have mixed types.Specify dtype option on import or set low_memory=False.\n",
      "  exec(code_obj, self.user_global_ns, self.user_ns)\n"
     ]
    },
    {
     "data": {
      "text/html": [
       "<div>\n",
       "<style scoped>\n",
       "    .dataframe tbody tr th:only-of-type {\n",
       "        vertical-align: middle;\n",
       "    }\n",
       "\n",
       "    .dataframe tbody tr th {\n",
       "        vertical-align: top;\n",
       "    }\n",
       "\n",
       "    .dataframe thead th {\n",
       "        text-align: right;\n",
       "    }\n",
       "</style>\n",
       "<table border=\"1\" class=\"dataframe\">\n",
       "  <thead>\n",
       "    <tr style=\"text-align: right;\">\n",
       "      <th></th>\n",
       "      <th>Id</th>\n",
       "      <th>EmployeeName</th>\n",
       "      <th>JobTitle</th>\n",
       "      <th>BasePay</th>\n",
       "      <th>OvertimePay</th>\n",
       "      <th>OtherPay</th>\n",
       "      <th>Benefits</th>\n",
       "      <th>TotalPay</th>\n",
       "      <th>TotalPayBenefits</th>\n",
       "      <th>Year</th>\n",
       "      <th>Notes</th>\n",
       "      <th>Agency</th>\n",
       "      <th>Status</th>\n",
       "    </tr>\n",
       "  </thead>\n",
       "  <tbody>\n",
       "    <tr>\n",
       "      <th>0</th>\n",
       "      <td>1</td>\n",
       "      <td>NATHANIEL FORD</td>\n",
       "      <td>GENERAL MANAGER-METROPOLITAN TRANSIT AUTHORITY</td>\n",
       "      <td>167411.18</td>\n",
       "      <td>0.00</td>\n",
       "      <td>400184.25</td>\n",
       "      <td>NaN</td>\n",
       "      <td>567595.43</td>\n",
       "      <td>567595.43</td>\n",
       "      <td>2011</td>\n",
       "      <td>NaN</td>\n",
       "      <td>San Francisco</td>\n",
       "      <td>NaN</td>\n",
       "    </tr>\n",
       "    <tr>\n",
       "      <th>1</th>\n",
       "      <td>2</td>\n",
       "      <td>GARY JIMENEZ</td>\n",
       "      <td>CAPTAIN III (POLICE DEPARTMENT)</td>\n",
       "      <td>155966.02</td>\n",
       "      <td>245131.88</td>\n",
       "      <td>137811.38</td>\n",
       "      <td>NaN</td>\n",
       "      <td>538909.28</td>\n",
       "      <td>538909.28</td>\n",
       "      <td>2011</td>\n",
       "      <td>NaN</td>\n",
       "      <td>San Francisco</td>\n",
       "      <td>NaN</td>\n",
       "    </tr>\n",
       "    <tr>\n",
       "      <th>2</th>\n",
       "      <td>3</td>\n",
       "      <td>ALBERT PARDINI</td>\n",
       "      <td>CAPTAIN III (POLICE DEPARTMENT)</td>\n",
       "      <td>212739.13</td>\n",
       "      <td>106088.18</td>\n",
       "      <td>16452.60</td>\n",
       "      <td>NaN</td>\n",
       "      <td>335279.91</td>\n",
       "      <td>335279.91</td>\n",
       "      <td>2011</td>\n",
       "      <td>NaN</td>\n",
       "      <td>San Francisco</td>\n",
       "      <td>NaN</td>\n",
       "    </tr>\n",
       "    <tr>\n",
       "      <th>3</th>\n",
       "      <td>4</td>\n",
       "      <td>CHRISTOPHER CHONG</td>\n",
       "      <td>WIRE ROPE CABLE MAINTENANCE MECHANIC</td>\n",
       "      <td>77916.00</td>\n",
       "      <td>56120.71</td>\n",
       "      <td>198306.90</td>\n",
       "      <td>NaN</td>\n",
       "      <td>332343.61</td>\n",
       "      <td>332343.61</td>\n",
       "      <td>2011</td>\n",
       "      <td>NaN</td>\n",
       "      <td>San Francisco</td>\n",
       "      <td>NaN</td>\n",
       "    </tr>\n",
       "    <tr>\n",
       "      <th>4</th>\n",
       "      <td>5</td>\n",
       "      <td>PATRICK GARDNER</td>\n",
       "      <td>DEPUTY CHIEF OF DEPARTMENT,(FIRE DEPARTMENT)</td>\n",
       "      <td>134401.60</td>\n",
       "      <td>9737.00</td>\n",
       "      <td>182234.59</td>\n",
       "      <td>NaN</td>\n",
       "      <td>326373.19</td>\n",
       "      <td>326373.19</td>\n",
       "      <td>2011</td>\n",
       "      <td>NaN</td>\n",
       "      <td>San Francisco</td>\n",
       "      <td>NaN</td>\n",
       "    </tr>\n",
       "    <tr>\n",
       "      <th>...</th>\n",
       "      <td>...</td>\n",
       "      <td>...</td>\n",
       "      <td>...</td>\n",
       "      <td>...</td>\n",
       "      <td>...</td>\n",
       "      <td>...</td>\n",
       "      <td>...</td>\n",
       "      <td>...</td>\n",
       "      <td>...</td>\n",
       "      <td>...</td>\n",
       "      <td>...</td>\n",
       "      <td>...</td>\n",
       "      <td>...</td>\n",
       "    </tr>\n",
       "    <tr>\n",
       "      <th>36153</th>\n",
       "      <td>36155</td>\n",
       "      <td>SERENA HUGHES</td>\n",
       "      <td>SWIMMING INSTRUCTOR/POOL LIFEGUARD</td>\n",
       "      <td>0.00</td>\n",
       "      <td>0.00</td>\n",
       "      <td>4.17</td>\n",
       "      <td>NaN</td>\n",
       "      <td>4.17</td>\n",
       "      <td>4.17</td>\n",
       "      <td>2011</td>\n",
       "      <td>NaN</td>\n",
       "      <td>San Francisco</td>\n",
       "      <td>NaN</td>\n",
       "    </tr>\n",
       "    <tr>\n",
       "      <th>36154</th>\n",
       "      <td>36156</td>\n",
       "      <td>JOE BROWN JR</td>\n",
       "      <td>TRANSIT OPERATOR</td>\n",
       "      <td>0.00</td>\n",
       "      <td>0.00</td>\n",
       "      <td>0.30</td>\n",
       "      <td>NaN</td>\n",
       "      <td>0.30</td>\n",
       "      <td>0.30</td>\n",
       "      <td>2011</td>\n",
       "      <td>NaN</td>\n",
       "      <td>San Francisco</td>\n",
       "      <td>NaN</td>\n",
       "    </tr>\n",
       "    <tr>\n",
       "      <th>36155</th>\n",
       "      <td>36157</td>\n",
       "      <td>PAULETTE ADAMS</td>\n",
       "      <td>STATIONARY ENGINEER, WATER TREATMENT PLANT</td>\n",
       "      <td>0.00</td>\n",
       "      <td>0.00</td>\n",
       "      <td>0.00</td>\n",
       "      <td>NaN</td>\n",
       "      <td>0.00</td>\n",
       "      <td>0.00</td>\n",
       "      <td>2011</td>\n",
       "      <td>NaN</td>\n",
       "      <td>San Francisco</td>\n",
       "      <td>NaN</td>\n",
       "    </tr>\n",
       "    <tr>\n",
       "      <th>36156</th>\n",
       "      <td>36158</td>\n",
       "      <td>KAUKAB MOHSIN</td>\n",
       "      <td>TRANSIT OPERATOR</td>\n",
       "      <td>0.00</td>\n",
       "      <td>0.00</td>\n",
       "      <td>0.00</td>\n",
       "      <td>NaN</td>\n",
       "      <td>0.00</td>\n",
       "      <td>0.00</td>\n",
       "      <td>2011</td>\n",
       "      <td>NaN</td>\n",
       "      <td>San Francisco</td>\n",
       "      <td>NaN</td>\n",
       "    </tr>\n",
       "    <tr>\n",
       "      <th>36157</th>\n",
       "      <td>36159</td>\n",
       "      <td>JOSEPHINE MCCREARY</td>\n",
       "      <td>MANAGER IV</td>\n",
       "      <td>0.00</td>\n",
       "      <td>0.00</td>\n",
       "      <td>0.00</td>\n",
       "      <td>NaN</td>\n",
       "      <td>0.00</td>\n",
       "      <td>0.00</td>\n",
       "      <td>2011</td>\n",
       "      <td>NaN</td>\n",
       "      <td>San Francisco</td>\n",
       "      <td>NaN</td>\n",
       "    </tr>\n",
       "  </tbody>\n",
       "</table>\n",
       "<p>36158 rows × 13 columns</p>\n",
       "</div>"
      ],
      "text/plain": [
       "          Id        EmployeeName  \\\n",
       "0          1      NATHANIEL FORD   \n",
       "1          2        GARY JIMENEZ   \n",
       "2          3      ALBERT PARDINI   \n",
       "3          4   CHRISTOPHER CHONG   \n",
       "4          5     PATRICK GARDNER   \n",
       "...      ...                 ...   \n",
       "36153  36155       SERENA HUGHES   \n",
       "36154  36156        JOE BROWN JR   \n",
       "36155  36157      PAULETTE ADAMS   \n",
       "36156  36158       KAUKAB MOHSIN   \n",
       "36157  36159  JOSEPHINE MCCREARY   \n",
       "\n",
       "                                             JobTitle    BasePay  OvertimePay  \\\n",
       "0      GENERAL MANAGER-METROPOLITAN TRANSIT AUTHORITY  167411.18         0.00   \n",
       "1                     CAPTAIN III (POLICE DEPARTMENT)  155966.02    245131.88   \n",
       "2                     CAPTAIN III (POLICE DEPARTMENT)  212739.13    106088.18   \n",
       "3                WIRE ROPE CABLE MAINTENANCE MECHANIC   77916.00     56120.71   \n",
       "4        DEPUTY CHIEF OF DEPARTMENT,(FIRE DEPARTMENT)  134401.60      9737.00   \n",
       "...                                               ...        ...          ...   \n",
       "36153              SWIMMING INSTRUCTOR/POOL LIFEGUARD       0.00         0.00   \n",
       "36154                                TRANSIT OPERATOR       0.00         0.00   \n",
       "36155      STATIONARY ENGINEER, WATER TREATMENT PLANT       0.00         0.00   \n",
       "36156                                TRANSIT OPERATOR       0.00         0.00   \n",
       "36157                                      MANAGER IV       0.00         0.00   \n",
       "\n",
       "        OtherPay  Benefits   TotalPay  TotalPayBenefits  Year  Notes  \\\n",
       "0      400184.25       NaN  567595.43         567595.43  2011    NaN   \n",
       "1      137811.38       NaN  538909.28         538909.28  2011    NaN   \n",
       "2       16452.60       NaN  335279.91         335279.91  2011    NaN   \n",
       "3      198306.90       NaN  332343.61         332343.61  2011    NaN   \n",
       "4      182234.59       NaN  326373.19         326373.19  2011    NaN   \n",
       "...          ...       ...        ...               ...   ...    ...   \n",
       "36153       4.17       NaN       4.17              4.17  2011    NaN   \n",
       "36154       0.30       NaN       0.30              0.30  2011    NaN   \n",
       "36155       0.00       NaN       0.00              0.00  2011    NaN   \n",
       "36156       0.00       NaN       0.00              0.00  2011    NaN   \n",
       "36157       0.00       NaN       0.00              0.00  2011    NaN   \n",
       "\n",
       "              Agency Status  \n",
       "0      San Francisco    NaN  \n",
       "1      San Francisco    NaN  \n",
       "2      San Francisco    NaN  \n",
       "3      San Francisco    NaN  \n",
       "4      San Francisco    NaN  \n",
       "...              ...    ...  \n",
       "36153  San Francisco    NaN  \n",
       "36154  San Francisco    NaN  \n",
       "36155  San Francisco    NaN  \n",
       "36156  San Francisco    NaN  \n",
       "36157  San Francisco    NaN  \n",
       "\n",
       "[36158 rows x 13 columns]"
      ]
     },
     "execution_count": 1,
     "metadata": {},
     "output_type": "execute_result"
    }
   ],
   "source": [
    "import pandas as pd\n",
    "df=pd.read_csv(\"Salaries.csv\")\n",
    "df=df.drop(df[df.Year!=2011].index)\n",
    "df"
   ]
  },
  {
   "cell_type": "markdown",
   "id": "774c2656",
   "metadata": {},
   "source": [
    "1.Compute how much total salary cost has increased from year 2011 to 2014"
   ]
  },
  {
   "cell_type": "code",
   "execution_count": 4,
   "id": "e1143961",
   "metadata": {
    "ExecuteTime": {
     "end_time": "2022-01-07T07:54:18.037119Z",
     "start_time": "2022-01-07T07:54:17.608140Z"
    }
   },
   "outputs": [
    {
     "name": "stdout",
     "output_type": "stream",
     "text": [
      "          TotalPay\n",
      "Year              \n",
      "2011  2.594113e+09\n",
      "2012  2.724736e+09\n",
      "2013  2.918656e+09\n",
      "2014  2.876911e+09\n",
      "\n",
      "Total change from 2011 to 2014 is:   282797920.54000044\n"
     ]
    },
    {
     "name": "stderr",
     "output_type": "stream",
     "text": [
      "C:\\ProgramData\\Anaconda3\\lib\\site-packages\\IPython\\core\\interactiveshell.py:3444: DtypeWarning: Columns (12) have mixed types.Specify dtype option on import or set low_memory=False.\n",
      "  exec(code_obj, self.user_global_ns, self.user_ns)\n"
     ]
    }
   ],
   "source": [
    "import pandas as pd\n",
    "import matplotlib.pyplot as plt\n",
    "df=pd.read_csv(\"Salaries.csv\")\n",
    "\n",
    "df1 = df.groupby([\"Year\"]).agg(\"sum\").filter([\"Year\", \"TotalPay\"])\n",
    "print(df1)\n",
    "print()\n",
    "Total_pay_2011 = df1.query(\"Year == 2011\")[\"TotalPay\"]\n",
    "Total_pay_2014 = df1.query(\"Year == 2014\")[\"TotalPay\"]\n",
    "\n",
    "Total_cost_Increased=float(Total_pay_2014)-float(Total_pay_2011 )\n",
    "print(\"Total change from 2011 to 2014 is:  \",Total_cost_Increased)\n"
   ]
  },
  {
   "cell_type": "markdown",
   "id": "a5ae0539",
   "metadata": {},
   "source": [
    "2. Which Job Title in Year 2014 has highest mean salary?"
   ]
  },
  {
   "cell_type": "code",
   "execution_count": 6,
   "id": "74039edd",
   "metadata": {
    "ExecuteTime": {
     "end_time": "2022-01-07T07:55:55.438629Z",
     "start_time": "2022-01-07T07:55:55.002888Z"
    }
   },
   "outputs": [
    {
     "name": "stdout",
     "output_type": "stream",
     "text": [
      "highest mean Salary job title is                           TotalPay\n",
      "JobTitle                          \n",
      "Chief Investment Officer  339653.7\n"
     ]
    },
    {
     "name": "stderr",
     "output_type": "stream",
     "text": [
      "C:\\ProgramData\\Anaconda3\\lib\\site-packages\\IPython\\core\\interactiveshell.py:3444: DtypeWarning: Columns (12) have mixed types.Specify dtype option on import or set low_memory=False.\n",
      "  exec(code_obj, self.user_global_ns, self.user_ns)\n"
     ]
    }
   ],
   "source": [
    "import pandas as pd\n",
    "import matplotlib.pyplot as plt\n",
    "df=pd.read_csv(\"Salaries.csv\")\n",
    "\n",
    "grouped_df_JobTitle = df.query(\"Year == 2014\").groupby(\n",
    "    [\"JobTitle\"]).agg(\"mean\").filter([\"JobTitle\", \"TotalPay\"])\n",
    "\n",
    "max_min_salary = grouped_df_JobTitle[grouped_df_JobTitle[\"TotalPay\"]\n",
    "                                     == grouped_df_JobTitle[\"TotalPay\"].max()]\n",
    "print(\"highest mean Salary job title is \" + str(max_min_salary))"
   ]
  },
  {
   "cell_type": "markdown",
   "id": "d31c1707",
   "metadata": {},
   "source": [
    " 3. How much money could have been saved in Year 2014 by stopping OverTimePay?"
   ]
  },
  {
   "cell_type": "code",
   "execution_count": 7,
   "id": "039e564a",
   "metadata": {
    "ExecuteTime": {
     "end_time": "2022-01-07T07:56:10.316493Z",
     "start_time": "2022-01-07T07:56:10.275517Z"
    }
   },
   "outputs": [
    {
     "name": "stdout",
     "output_type": "stream",
     "text": [
      "205918599.27 money could have been saved in Year 2014 by stopping OverTimePay\n"
     ]
    }
   ],
   "source": [
    "import pandas as pd\n",
    "import matplotlib.pyplot as plt\n",
    "df=pd.read_csv(\"Salaries.csv\")\n",
    "\n",
    "grouped_df_overTime = df.groupby([\"Year\"]).agg(\n",
    "    \"sum\").filter([\"OvertimePay\"]).query(\"Year == 2014\")\n",
    "\n",
    "print(str(float(grouped_df_overTime[\"OvertimePay\"])) +\n",
    "      \" money could have been saved in Year 2014 by stopping OverTimePay\")"
   ]
  },
  {
   "cell_type": "markdown",
   "id": "c8c93c78",
   "metadata": {},
   "source": [
    " 4. Which are the top 5 common job in Year 2014 and how much do they cost SFO ?"
   ]
  },
  {
   "cell_type": "code",
   "execution_count": 10,
   "id": "d3ae37a9",
   "metadata": {
    "ExecuteTime": {
     "end_time": "2022-01-07T08:02:33.325428Z",
     "start_time": "2022-01-07T08:02:32.820562Z"
    }
   },
   "outputs": [
    {
     "name": "stdout",
     "output_type": "stream",
     "text": [
      "                                   TotalPay\n",
      "Year JobTitle                              \n",
      "2014 Transit Operator                  2479\n",
      "     Special Nurse                     1478\n",
      "     Registered Nurse                  1234\n",
      "     Public Svc Aide-Public Works       916\n",
      "     Firefighter                        815\n"
     ]
    },
    {
     "name": "stderr",
     "output_type": "stream",
     "text": [
      "C:\\ProgramData\\Anaconda3\\lib\\site-packages\\IPython\\core\\interactiveshell.py:3444: DtypeWarning: Columns (12) have mixed types.Specify dtype option on import or set low_memory=False.\n",
      "  exec(code_obj, self.user_global_ns, self.user_ns)\n"
     ]
    }
   ],
   "source": [
    "import pandas as pd\n",
    "import matplotlib.pyplot as plt\n",
    "df=pd.read_csv(\"Salaries.csv\")\n",
    "\n",
    "grouped_df_5_common = df.groupby([\"Year\", \"JobTitle\"]).agg(\"count\").filter(\n",
    "    [\"Year\", \"TotalPay\", \"JobTitle\"]).query(\"Year == 2014\").sort_values(\"TotalPay\", ascending=False)\n",
    "\n",
    "print(grouped_df_5_common.head(5))"
   ]
  },
  {
   "cell_type": "markdown",
   "id": "238501fe",
   "metadata": {},
   "source": [
    "5. Who was the top earning employee across all the years?"
   ]
  },
  {
   "cell_type": "code",
   "execution_count": 9,
   "id": "ad0010b5",
   "metadata": {
    "ExecuteTime": {
     "end_time": "2022-01-07T08:02:02.423351Z",
     "start_time": "2022-01-07T08:00:53.597678Z"
    }
   },
   "outputs": [
    {
     "name": "stdout",
     "output_type": "stream",
     "text": [
      "                  EmployeeName\n",
      "Year TotalPay                 \n",
      "2011 0.00       PAULETTE ADAMS\n",
      "     0.30         JOE BROWN JR\n",
      "     4.17        SERENA HUGHES\n",
      "     5.80        ROCK CRAWFORD\n",
      "     8.86      MARCELLA TUCKER\n"
     ]
    }
   ],
   "source": [
    "grouped_df_5_top_earners = df.groupby([\"Year\", \"TotalPay\"]).agg(\n",
    "    \"max\").filter([\"Year\", \"TotalPay\", \"EmployeeName\"])\n",
    "\n",
    "print(grouped_df_5_top_earners.head())"
   ]
  }
 ],
 "metadata": {
  "kernelspec": {
   "display_name": "Python 3 (ipykernel)",
   "language": "python",
   "name": "python3"
  },
  "language_info": {
   "codemirror_mode": {
    "name": "ipython",
    "version": 3
   },
   "file_extension": ".py",
   "mimetype": "text/x-python",
   "name": "python",
   "nbconvert_exporter": "python",
   "pygments_lexer": "ipython3",
   "version": "3.9.7"
  },
  "latex_envs": {
   "LaTeX_envs_menu_present": true,
   "autoclose": false,
   "autocomplete": true,
   "bibliofile": "biblio.bib",
   "cite_by": "apalike",
   "current_citInitial": 1,
   "eqLabelWithNumbers": true,
   "eqNumInitial": 1,
   "hotkeys": {
    "equation": "Ctrl-E",
    "itemize": "Ctrl-I"
   },
   "labels_anchors": false,
   "latex_user_defs": false,
   "report_style_numbering": false,
   "user_envs_cfg": false
  },
  "nbTranslate": {
   "displayLangs": [
    "*"
   ],
   "hotkey": "alt-t",
   "langInMainMenu": true,
   "sourceLang": "en",
   "targetLang": "fr",
   "useGoogleTranslate": true
  },
  "varInspector": {
   "cols": {
    "lenName": 16,
    "lenType": 16,
    "lenVar": 40
   },
   "kernels_config": {
    "python": {
     "delete_cmd_postfix": "",
     "delete_cmd_prefix": "del ",
     "library": "var_list.py",
     "varRefreshCmd": "print(var_dic_list())"
    },
    "r": {
     "delete_cmd_postfix": ") ",
     "delete_cmd_prefix": "rm(",
     "library": "var_list.r",
     "varRefreshCmd": "cat(var_dic_list()) "
    }
   },
   "types_to_exclude": [
    "module",
    "function",
    "builtin_function_or_method",
    "instance",
    "_Feature"
   ],
   "window_display": false
  }
 },
 "nbformat": 4,
 "nbformat_minor": 5
}
